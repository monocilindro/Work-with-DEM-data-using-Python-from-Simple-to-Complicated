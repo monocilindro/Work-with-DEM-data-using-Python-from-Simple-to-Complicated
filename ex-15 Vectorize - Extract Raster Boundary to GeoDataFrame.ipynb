{
 "cells": [
  {
   "cell_type": "markdown",
   "id": "2485bbbb-eca9-44d4-b5ab-6750faaedb1a",
   "metadata": {},
   "source": [
    "# ex-15 Vectorize - Extract Raster Boundary to GeoDataFrame\n",
    "\n",
    "In the current tutorial, we will apply the vectorize function from the python package of geocude to extract boundary of a DEM data."
   ]
  },
  {
   "cell_type": "code",
   "execution_count": null,
   "id": "5f8c96a9-17dd-44a5-ba2f-50af80417170",
   "metadata": {},
   "outputs": [],
   "source": [
    "\"\"\"\n",
    "Module for vector methods\n",
    "https://corteva.github.io/geocube/stable/_modules/geocube/vector.html#vectorize\n",
    "\"\"\"\n",
    "import warnings\n",
    "\n",
    "import geopandas\n",
    "import numpy\n",
    "import rasterio.features\n",
    "import rioxarray  # noqa: F401 pylint: disable=unused-import\n",
    "import shapely.geometry\n",
    "import xarray\n",
    "\n",
    "\n",
    "def vectorize(data_array: xarray.DataArray) -> geopandas.GeoDataFrame:\n",
    "    \"\"\"\n",
    "    .. versionadded:: 0.4.0\n",
    "\n",
    "    Powered by: :func:`rasterio.features.shapes`\n",
    "\n",
    "    Convert 2D :class:`xarray.DataArray` into\n",
    "    a :class:`geopandas.GeoDataFrame`.\n",
    "\n",
    "    The ``nodata``,  ``CRS``, and ``transform`` of the :class:`xarray.DataArray`\n",
    "    are determined using ``rioxarray``.\n",
    "\n",
    "    Helpful references:\n",
    "\n",
    "    - https://corteva.github.io/rioxarray/stable/getting_started/crs_management.html\n",
    "    - https://corteva.github.io/rioxarray/stable/getting_started/nodata_management.html\n",
    "    - https://gis.stackexchange.com/questions/379412/creating-geopandas-geodataframe-from-rasterio-features\n",
    "\n",
    "\n",
    "    Parameters\n",
    "    ----------\n",
    "    data_array: xarray.DataArray\n",
    "        Input 2D DataArray raster.\n",
    "\n",
    "    Returns\n",
    "    -------\n",
    "    geopandas.GeoDataFrame\n",
    "    \"\"\"\n",
    "    # nodata mask\n",
    "    mask = None\n",
    "    if data_array.rio.nodata is not None:\n",
    "        if numpy.isnan(data_array.rio.nodata):\n",
    "            mask = ~data_array.isnull()\n",
    "        else:\n",
    "            mask = data_array != data_array.rio.nodata\n",
    "\n",
    "    # vectorize generator\n",
    "    vectorized_data = (\n",
    "        (value, shapely.geometry.shape(polygon))\n",
    "        for polygon, value in rasterio.features.shapes(\n",
    "            data_array,\n",
    "            transform=data_array.rio.transform(),\n",
    "            mask=mask,\n",
    "        )\n",
    "    )\n",
    "\n",
    "    if data_array.name:\n",
    "        name = data_array.name\n",
    "    else:\n",
    "        warnings.warn(\"The array has no name. Column name defaults to _data\")\n",
    "        name = \"_data\"\n",
    "\n",
    "    return geopandas.GeoDataFrame(\n",
    "        vectorized_data,\n",
    "        columns=[name, \"geometry\"],\n",
    "        crs=data_array.rio.crs,\n",
    "    )"
   ]
  },
  {
   "cell_type": "markdown",
   "id": "78ae7f4c-b2f6-4aac-9abf-faeff26c6549",
   "metadata": {},
   "source": [
    "## Read data"
   ]
  },
  {
   "cell_type": "code",
   "execution_count": null,
   "id": "2a73f5e4-7c4a-4e18-a4e4-5d53e15adfa6",
   "metadata": {},
   "outputs": [],
   "source": [
    "infile = Path(r\"data/DEM_XX.tif\")\n",
    "da = rx.open_rasterio(infile, mask_and_scale=True, chunks={\"x\": 512, 'y': 512})"
   ]
  },
  {
   "cell_type": "markdown",
   "id": "0688d125-b28a-4274-b1d3-00611c439559",
   "metadata": {},
   "source": [
    "## Process\n",
    "\n",
    "- convert valid DEM values to 0.0\n",
    "- keep other values as np.nan"
   ]
  },
  {
   "cell_type": "code",
   "execution_count": null,
   "id": "0cddece2-fd03-4112-85a5-dc9f2233aca0",
   "metadata": {},
   "outputs": [],
   "source": [
    "da = xr.where(np.isnan(da), np.nan, 0.0).astype('float32')\n",
    "da.name = 'DEM'"
   ]
  },
  {
   "cell_type": "markdown",
   "id": "a5e89897-34fb-4338-9a24-f29c808ddfa8",
   "metadata": {},
   "source": [
    "## Vectorize to extract boundry"
   ]
  },
  {
   "cell_type": "markdown",
   "id": "1d2b60e2-357f-40ae-8506-c43c9b4ff133",
   "metadata": {},
   "source": [
    "poly = vectorize(da).dropna()\n",
    "\n",
    "# save \n",
    "outfile = Path(f\"{infile.stem}.shp\")\n",
    "poly.to_file(outfile)"
   ]
  },
  {
   "cell_type": "code",
   "execution_count": null,
   "id": "765c62f6-6aed-41b7-84ec-aa40a2d69916",
   "metadata": {},
   "outputs": [],
   "source": [
    "poly"
   ]
  },
  {
   "cell_type": "markdown",
   "id": "afa141ff-04f9-41ae-ba9a-1b404e8bc146",
   "metadata": {},
   "source": [
    "## Have a simple visualization"
   ]
  },
  {
   "cell_type": "code",
   "execution_count": null,
   "id": "36ca39e5-c14a-4e6d-8306-44bed7ae3ce3",
   "metadata": {},
   "outputs": [],
   "source": [
    "poly.plot()"
   ]
  },
  {
   "cell_type": "markdown",
   "id": "a9606c4d-c1f9-451a-b1bc-1f6a9946ac4f",
   "metadata": {},
   "source": [
    "## References and Resources\n",
    "\n",
    "https://corteva.github.io/geocube/stable/examples/vectorize.html\n",
    "\n",
    "https://docs.xarray.dev/en/stable/\n",
    "\n",
    "https://corteva.github.io/rioxarray/html/rioxarray.html\n",
    "\n",
    "https://rasterio.readthedocs.io/en/stable/"
   ]
  },
  {
   "cell_type": "code",
   "execution_count": null,
   "id": "7c058a1a-1bf0-4981-b3d3-d3ed9f58246a",
   "metadata": {},
   "outputs": [],
   "source": []
  }
 ],
 "metadata": {
  "kernelspec": {
   "display_name": "Python 3 (ipykernel)",
   "language": "python",
   "name": "python3"
  },
  "language_info": {
   "codemirror_mode": {
    "name": "ipython",
    "version": 3
   },
   "file_extension": ".py",
   "mimetype": "text/x-python",
   "name": "python",
   "nbconvert_exporter": "python",
   "pygments_lexer": "ipython3",
   "version": "3.10.14"
  }
 },
 "nbformat": 4,
 "nbformat_minor": 5
}
